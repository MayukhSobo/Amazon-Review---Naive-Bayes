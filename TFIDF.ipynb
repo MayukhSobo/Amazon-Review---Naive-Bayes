{
 "cells": [
  {
   "cell_type": "code",
   "execution_count": 45,
   "metadata": {},
   "outputs": [
    {
     "name": "stdout",
     "output_type": "stream",
     "text": [
      "Checking whether there is an H2O instance running at http://localhost:54321. connected.\n"
     ]
    },
    {
     "data": {
      "text/html": [
       "<div style=\"overflow:auto\"><table style=\"width:50%\"><tr><td>H2O cluster uptime:</td>\n",
       "<td>1 hour 42 mins</td></tr>\n",
       "<tr><td>H2O cluster timezone:</td>\n",
       "<td>America/New_York</td></tr>\n",
       "<tr><td>H2O data parsing timezone:</td>\n",
       "<td>UTC</td></tr>\n",
       "<tr><td>H2O cluster version:</td>\n",
       "<td>3.20.0.7</td></tr>\n",
       "<tr><td>H2O cluster version age:</td>\n",
       "<td>19 days </td></tr>\n",
       "<tr><td>H2O cluster name:</td>\n",
       "<td>H2O_from_python_paperspace_fhd724</td></tr>\n",
       "<tr><td>H2O cluster total nodes:</td>\n",
       "<td>1</td></tr>\n",
       "<tr><td>H2O cluster free memory:</td>\n",
       "<td>15.26 Gb</td></tr>\n",
       "<tr><td>H2O cluster total cores:</td>\n",
       "<td>12</td></tr>\n",
       "<tr><td>H2O cluster allowed cores:</td>\n",
       "<td>12</td></tr>\n",
       "<tr><td>H2O cluster status:</td>\n",
       "<td>locked, healthy</td></tr>\n",
       "<tr><td>H2O connection url:</td>\n",
       "<td>http://localhost:54321</td></tr>\n",
       "<tr><td>H2O connection proxy:</td>\n",
       "<td>None</td></tr>\n",
       "<tr><td>H2O internal security:</td>\n",
       "<td>False</td></tr>\n",
       "<tr><td>H2O API Extensions:</td>\n",
       "<td>XGBoost, Algos, AutoML, Core V3, Core V4</td></tr>\n",
       "<tr><td>Python version:</td>\n",
       "<td>3.6.6 final</td></tr></table></div>"
      ],
      "text/plain": [
       "--------------------------  ----------------------------------------\n",
       "H2O cluster uptime:         1 hour 42 mins\n",
       "H2O cluster timezone:       America/New_York\n",
       "H2O data parsing timezone:  UTC\n",
       "H2O cluster version:        3.20.0.7\n",
       "H2O cluster version age:    19 days\n",
       "H2O cluster name:           H2O_from_python_paperspace_fhd724\n",
       "H2O cluster total nodes:    1\n",
       "H2O cluster free memory:    15.26 Gb\n",
       "H2O cluster total cores:    12\n",
       "H2O cluster allowed cores:  12\n",
       "H2O cluster status:         locked, healthy\n",
       "H2O connection url:         http://localhost:54321\n",
       "H2O connection proxy:\n",
       "H2O internal security:      False\n",
       "H2O API Extensions:         XGBoost, Algos, AutoML, Core V3, Core V4\n",
       "Python version:             3.6.6 final\n",
       "--------------------------  ----------------------------------------"
      ]
     },
     "metadata": {},
     "output_type": "display_data"
    }
   ],
   "source": [
    "from sklearn.datasets import load_breast_cancer\n",
    "import pandas as pd\n",
    "import numpy as np\n",
    "import warnings\n",
    "import h2o\n",
    "\n",
    "from h2o.grid.grid_search import H2OGridSearch\n",
    "from h2o.estimators.naive_bayes import H2ONaiveBayesEstimator\n",
    "from h2o.estimators.estimator_base import H2OEstimator\n",
    "\n",
    "h2o.init(nthreads=-1, max_mem_size=\"20g\")"
   ]
  },
  {
   "cell_type": "code",
   "execution_count": 46,
   "metadata": {},
   "outputs": [],
   "source": [
    "import numpy as np\n",
    "import pandas as pd\n",
    "import matplotlib.pyplot as plt\n",
    "import seaborn as sns\n",
    "import sqlite3\n",
    "%config InlineBackend.figure_format = 'retina'"
   ]
  },
  {
   "cell_type": "markdown",
   "metadata": {},
   "source": [
    "## 1. Loading the dataset¶"
   ]
  },
  {
   "cell_type": "code",
   "execution_count": 47,
   "metadata": {},
   "outputs": [],
   "source": [
    "with sqlite3.connect('./data/reviewsV1.db') as conn:\n",
    "    data = pd.read_sql_query('SELECT * FROM Review', conn)"
   ]
  },
  {
   "cell_type": "code",
   "execution_count": 48,
   "metadata": {},
   "outputs": [],
   "source": [
    "data.drop('index', inplace=True, axis=1)"
   ]
  },
  {
   "cell_type": "markdown",
   "metadata": {},
   "source": [
    "## 2. Time Based Splitting"
   ]
  },
  {
   "cell_type": "code",
   "execution_count": 49,
   "metadata": {},
   "outputs": [],
   "source": [
    "data.sort_values(by='Time', inplace=True)\n",
    "data.reset_index(drop=True, inplace=True)\n",
    "TRAIN_SIZE = int(data.shape[0] * 0.7)\n",
    "TEST_SIZE = data.shape[0] - TRAIN_SIZE"
   ]
  },
  {
   "cell_type": "code",
   "execution_count": 50,
   "metadata": {},
   "outputs": [
    {
     "data": {
      "text/plain": [
       "254883"
      ]
     },
     "execution_count": 50,
     "metadata": {},
     "output_type": "execute_result"
    }
   ],
   "source": [
    "TRAIN_SIZE"
   ]
  },
  {
   "cell_type": "code",
   "execution_count": 51,
   "metadata": {},
   "outputs": [
    {
     "data": {
      "text/plain": [
       "109236"
      ]
     },
     "execution_count": 51,
     "metadata": {},
     "output_type": "execute_result"
    }
   ],
   "source": [
    "TEST_SIZE"
   ]
  },
  {
   "cell_type": "code",
   "execution_count": 52,
   "metadata": {},
   "outputs": [],
   "source": [
    "data_train = data[0: TRAIN_SIZE]\n",
    "data_test = data[TRAIN_SIZE:]"
   ]
  },
  {
   "cell_type": "markdown",
   "metadata": {},
   "source": [
    "#### 2.1 Check if the Splitting was performed properly"
   ]
  },
  {
   "cell_type": "code",
   "execution_count": 53,
   "metadata": {},
   "outputs": [],
   "source": [
    "assert(data_train.shape[0] == TRAIN_SIZE)\n",
    "assert(data_test.shape[0] == TEST_SIZE)\n",
    "assert(data.Time.max() == data_test.Time.reset_index(drop=True)[TEST_SIZE -1])\n",
    "assert(data.Time.min() == data_train.Time.reset_index(drop=True)[0])"
   ]
  },
  {
   "cell_type": "markdown",
   "metadata": {},
   "source": [
    "## 3. Training TFIDF Model on data_train"
   ]
  },
  {
   "cell_type": "markdown",
   "metadata": {},
   "source": [
    "#### 3.1 Creating a TFIDF on train data"
   ]
  },
  {
   "cell_type": "code",
   "execution_count": 54,
   "metadata": {},
   "outputs": [],
   "source": [
    "from sklearn.feature_extraction.text import TfidfVectorizer"
   ]
  },
  {
   "cell_type": "code",
   "execution_count": 55,
   "metadata": {},
   "outputs": [
    {
     "data": {
      "text/plain": [
       "TfidfVectorizer(analyzer='word', binary=False, decode_error='strict',\n",
       "        dtype=<class 'numpy.int64'>, encoding='utf-8', input='content',\n",
       "        lowercase=True, max_df=1.0, max_features=8000, min_df=1,\n",
       "        ngram_range=(1, 1), norm='l2', preprocessor=None, smooth_idf=True,\n",
       "        stop_words=None, strip_accents=None, sublinear_tf=False,\n",
       "        token_pattern='(?u)\\\\b\\\\w\\\\w+\\\\b', tokenizer=None, use_idf=True,\n",
       "        vocabulary=None)"
      ]
     },
     "execution_count": 55,
     "metadata": {},
     "output_type": "execute_result"
    }
   ],
   "source": [
    "tfidf = TfidfVectorizer(max_features=8000)\n",
    "tfidf.fit(data_train.Text)"
   ]
  },
  {
   "cell_type": "code",
   "execution_count": 56,
   "metadata": {},
   "outputs": [
    {
     "data": {
      "text/plain": [
       "(254883, 8000)"
      ]
     },
     "execution_count": 56,
     "metadata": {},
     "output_type": "execute_result"
    }
   ],
   "source": [
    "Dtrain = tfidf.transform(data_train.Text)\n",
    "Dtrain.get_shape()"
   ]
  },
  {
   "cell_type": "markdown",
   "metadata": {},
   "source": [
    "#### 3.2 Converting sparse data into h2o frame"
   ]
  },
  {
   "cell_type": "code",
   "execution_count": 57,
   "metadata": {},
   "outputs": [
    {
     "name": "stdout",
     "output_type": "stream",
     "text": [
      "Parse progress: |█████████████████████████████████████████████████████████| 100%\n"
     ]
    }
   ],
   "source": [
    "# This might take 5 to 7 minutes but this can save the scipy sparse data into h2o sparse frame\n",
    "Dtrain_h2o = h2o.H2OFrame(Dtrain)"
   ]
  },
  {
   "cell_type": "code",
   "execution_count": 58,
   "metadata": {},
   "outputs": [
    {
     "data": {
      "text/plain": [
       "(254883, 8000)"
      ]
     },
     "execution_count": 58,
     "metadata": {},
     "output_type": "execute_result"
    }
   ],
   "source": [
    "Dtrain_h2o.shape  # No loss in data...:)"
   ]
  },
  {
   "cell_type": "code",
   "execution_count": 59,
   "metadata": {},
   "outputs": [],
   "source": [
    "del Dtrain # Release some memory"
   ]
  },
  {
   "cell_type": "code",
   "execution_count": 60,
   "metadata": {},
   "outputs": [
    {
     "name": "stdout",
     "output_type": "stream",
     "text": [
      "Parse progress: |█████████████████████████████████████████████████████████| 100%\n"
     ]
    }
   ],
   "source": [
    "label = h2o.H2OFrame(data_train.Polarity.values)"
   ]
  },
  {
   "cell_type": "code",
   "execution_count": 61,
   "metadata": {},
   "outputs": [],
   "source": [
    "label = label.set_names(['label'])"
   ]
  },
  {
   "cell_type": "code",
   "execution_count": 62,
   "metadata": {},
   "outputs": [
    {
     "data": {
      "text/html": [
       "<table>\n",
       "<thead>\n",
       "<tr><th>label   </th></tr>\n",
       "</thead>\n",
       "<tbody>\n",
       "<tr><td>positive</td></tr>\n",
       "<tr><td>positive</td></tr>\n",
       "<tr><td>positive</td></tr>\n",
       "<tr><td>positive</td></tr>\n",
       "<tr><td>negative</td></tr>\n",
       "<tr><td>positive</td></tr>\n",
       "<tr><td>positive</td></tr>\n",
       "<tr><td>positive</td></tr>\n",
       "<tr><td>positive</td></tr>\n",
       "<tr><td>positive</td></tr>\n",
       "</tbody>\n",
       "</table>"
      ]
     },
     "metadata": {},
     "output_type": "display_data"
    },
    {
     "data": {
      "text/plain": []
     },
     "execution_count": 62,
     "metadata": {},
     "output_type": "execute_result"
    }
   ],
   "source": [
    "label"
   ]
  },
  {
   "cell_type": "code",
   "execution_count": 63,
   "metadata": {},
   "outputs": [],
   "source": [
    "Dtrain_h2o = Dtrain_h2o.concat(label, axis=1)"
   ]
  },
  {
   "cell_type": "code",
   "execution_count": 64,
   "metadata": {},
   "outputs": [
    {
     "data": {
      "text/plain": [
       "(254883, 8001)"
      ]
     },
     "execution_count": 64,
     "metadata": {},
     "output_type": "execute_result"
    }
   ],
   "source": [
    "Dtrain_h2o.shape"
   ]
  },
  {
   "cell_type": "markdown",
   "metadata": {},
   "source": [
    "#### 3.3  Some housekeeping for h2o"
   ]
  },
  {
   "cell_type": "code",
   "execution_count": 65,
   "metadata": {},
   "outputs": [],
   "source": [
    "Dtrain_h2o[['label']] = Dtrain_h2o[['label']].asfactor()"
   ]
  },
  {
   "cell_type": "code",
   "execution_count": 66,
   "metadata": {},
   "outputs": [],
   "source": [
    "warnings.filterwarnings(\"ignore\",category=FutureWarning)"
   ]
  },
  {
   "cell_type": "code",
   "execution_count": 67,
   "metadata": {},
   "outputs": [],
   "source": [
    "from h2o.two_dim_table import H2OTwoDimTable\n",
    "import itertools\n",
    "from functools import reduce\n",
    "\n",
    "class NaiveBayesGrid(H2OGridSearch):\n",
    "    def __init__(self, model, hyper_params, grid_id=None, search_criteria=None):\n",
    "        super(self.__class__, self).__init__(model, hyper_params, grid_id, search_criteria)\n",
    "\n",
    "    def get_cv_performace(self, metrics, combine=True):\n",
    "        frames = list()\n",
    "        for metric in metrics:\n",
    "            grid_metrics = self._get_grid(sort_by=metric, decreasing=True)\n",
    "            temp = grid_metrics.get()\n",
    "            temp.drop('model_ids', axis=1, inplace=True)\n",
    "            frames.append(temp)\n",
    "        if not combine:\n",
    "            return frames\n",
    "        else:\n",
    "            rFrame = reduce(lambda left, right: pd.merge(left,right,on='laplace'), frames)\n",
    "            metrics.extend(['laplace'])\n",
    "            rFrame = rFrame[metrics]\n",
    "            rFrame.set_index('laplace', inplace=True)\n",
    "            return rFrame\n",
    "\n",
    "    def _get_grid(self, sort_by=None, decreasing=None):\n",
    "        \"\"\"\n",
    "        Retrieve an H2OGridSearch instance.\n",
    "\n",
    "        Optionally specify a metric by which to sort models and a sort order.\n",
    "        Note that if neither cross-validation nor a validation frame is used in the grid search, then the\n",
    "        training metrics will display in the \"get grid\" output. If a validation frame is passed to the grid, and\n",
    "        ``nfolds = 0``, then the validation metrics will display. However, if ``nfolds`` > 1, then cross-validation\n",
    "        metrics will display even if a validation frame is provided.\n",
    "\n",
    "        :param str sort_by: A metric by which to sort the models in the grid space. Choices are: ``\"logloss\"``,\n",
    "            ``\"residual_deviance\"``, ``\"mse\"``, ``\"auc\"``, ``\"r2\"``, ``\"accuracy\"``, ``\"precision\"``, ``\"recall\"``,\n",
    "            ``\"f1\"``, etc.\n",
    "        :param bool decreasing: Sort the models in decreasing order of metric if true, otherwise sort in increasing\n",
    "            order (default).\n",
    "\n",
    "        :returns: A new H2OGridSearch instance optionally sorted on the specified metric.\n",
    "        \"\"\"\n",
    "        if sort_by is None and decreasing is None: return self\n",
    "\n",
    "        grid_json = h2o.api(\"GET /99/Grids/%s\" % self._id, data={\"sort_by\": sort_by, \"decreasing\": decreasing})\n",
    "        grid = NaiveBayesGrid(self.model, self.hyper_params, self._id)\n",
    "        grid.models = [h2o.get_model(key['name']) for key in grid_json['model_ids']]  # reordered\n",
    "        first_model_json = h2o.api(\"GET /99/Models/%s\" % grid_json['model_ids'][0]['name'])['models'][0]\n",
    "        model_class = H2OGridSearch._metrics_class(first_model_json)\n",
    "        m = model_class()\n",
    "        m._id = self._id\n",
    "        m._grid_json = grid_json\n",
    "#         m._metrics_class = metrics_class\n",
    "        m._parms = grid._parms\n",
    "        H2OEstimator.mixin(grid, model_class)\n",
    "        grid.__dict__.update(m.__dict__.copy())\n",
    "        return grid\n",
    "\n",
    "    def get(self):\n",
    "        \"\"\"Return models sorted by metric.\"\"\"\n",
    "        hyper_combos = itertools.product(*list(self.hyper_params.values()))\n",
    "        if not self.models:\n",
    "            c_values = [[idx + 1, list(val)] for idx, val in enumerate(hyper_combos)]\n",
    "            return H2OTwoDimTable(\n",
    "                col_header=['Model', 'Hyperparameters: [' + ', '.join(list(self.hyper_params.keys())) + ']'],\n",
    "                table_header='Grid Search of Model ' + self.model.__class__.__name__, cell_values=c_values)\n",
    "        else:\n",
    "            return self.sorted_metric_table()"
   ]
  },
  {
   "cell_type": "code",
   "execution_count": 68,
   "metadata": {},
   "outputs": [],
   "source": [
    "hyper_parameters = {'laplace':[0.0001, 0.001, 0.01, 0.1, 1, 5, 10, 50, 100, 500, 1000]}\n",
    "estimator = H2ONaiveBayesEstimator(\n",
    "#     balance_classes=True,\n",
    "    compute_metrics=True,\n",
    "    fold_assignment=\"stratified\",\n",
    "    keep_cross_validation_predictions=True,\n",
    "    nfolds=10,\n",
    ")\n",
    "gs = NaiveBayesGrid(estimator, hyper_params = hyper_parameters, grid_id='nb')"
   ]
  },
  {
   "cell_type": "code",
   "execution_count": null,
   "metadata": {},
   "outputs": [
    {
     "name": "stdout",
     "output_type": "stream",
     "text": [
      "naivebayes Grid Build progress: |█████████████████████████████████████████"
     ]
    }
   ],
   "source": [
    "gs.train(y=\"label\", training_frame=Dtrain_h2o)"
   ]
  },
  {
   "cell_type": "code",
   "execution_count": 20,
   "metadata": {},
   "outputs": [],
   "source": [
    "metrics=['accuracy', 'f1', 'recall', 'precision']"
   ]
  },
  {
   "cell_type": "code",
   "execution_count": 21,
   "metadata": {},
   "outputs": [],
   "source": [
    "k = gs.get_cv_performace(metrics)"
   ]
  },
  {
   "cell_type": "code",
   "execution_count": 22,
   "metadata": {},
   "outputs": [
    {
     "data": {
      "text/html": [
       "<div>\n",
       "<style scoped>\n",
       "    .dataframe tbody tr th:only-of-type {\n",
       "        vertical-align: middle;\n",
       "    }\n",
       "\n",
       "    .dataframe tbody tr th {\n",
       "        vertical-align: top;\n",
       "    }\n",
       "\n",
       "    .dataframe thead th {\n",
       "        text-align: right;\n",
       "    }\n",
       "</style>\n",
       "<table border=\"1\" class=\"dataframe\">\n",
       "  <thead>\n",
       "    <tr style=\"text-align: right;\">\n",
       "      <th></th>\n",
       "      <th>accuracy</th>\n",
       "      <th>f1</th>\n",
       "      <th>recall</th>\n",
       "      <th>precision</th>\n",
       "    </tr>\n",
       "    <tr>\n",
       "      <th>laplace</th>\n",
       "      <th></th>\n",
       "      <th></th>\n",
       "      <th></th>\n",
       "      <th></th>\n",
       "    </tr>\n",
       "  </thead>\n",
       "  <tbody>\n",
       "    <tr>\n",
       "      <th>1.0</th>\n",
       "      <td>0.9411764705882353</td>\n",
       "      <td>0.9265175718849841</td>\n",
       "      <td>0.9602649006622517</td>\n",
       "      <td>0.8950617283950617</td>\n",
       "    </tr>\n",
       "    <tr>\n",
       "      <th>0.1</th>\n",
       "      <td>0.9411764705882353</td>\n",
       "      <td>0.9260450160771704</td>\n",
       "      <td>0.9536423841059603</td>\n",
       "      <td>0.9</td>\n",
       "    </tr>\n",
       "    <tr>\n",
       "      <th>0.001</th>\n",
       "      <td>0.9411764705882353</td>\n",
       "      <td>0.9204152249134947</td>\n",
       "      <td>0.8807947019867549</td>\n",
       "      <td>0.9637681159420289</td>\n",
       "    </tr>\n",
       "    <tr>\n",
       "      <th>1.0E-4</th>\n",
       "      <td>0.9386189258312021</td>\n",
       "      <td>0.9230769230769231</td>\n",
       "      <td>0.9536423841059603</td>\n",
       "      <td>0.8944099378881988</td>\n",
       "    </tr>\n",
       "    <tr>\n",
       "      <th>0.01</th>\n",
       "      <td>0.9386189258312021</td>\n",
       "      <td>0.9172413793103448</td>\n",
       "      <td>0.8807947019867549</td>\n",
       "      <td>0.9568345323741008</td>\n",
       "    </tr>\n",
       "    <tr>\n",
       "      <th>50.0</th>\n",
       "      <td>0.9360613810741688</td>\n",
       "      <td>0.9201277955271565</td>\n",
       "      <td>0.9536423841059603</td>\n",
       "      <td>0.8888888888888888</td>\n",
       "    </tr>\n",
       "    <tr>\n",
       "      <th>5.0</th>\n",
       "      <td>0.9360613810741688</td>\n",
       "      <td>0.9201277955271565</td>\n",
       "      <td>0.9536423841059603</td>\n",
       "      <td>0.8888888888888888</td>\n",
       "    </tr>\n",
       "    <tr>\n",
       "      <th>10.0</th>\n",
       "      <td>0.9360613810741688</td>\n",
       "      <td>0.9196141479099679</td>\n",
       "      <td>0.9470198675496688</td>\n",
       "      <td>0.89375</td>\n",
       "    </tr>\n",
       "    <tr>\n",
       "      <th>100.0</th>\n",
       "      <td>0.9335038363171355</td>\n",
       "      <td>0.9197530864197532</td>\n",
       "      <td>0.9867549668874173</td>\n",
       "      <td>0.861271676300578</td>\n",
       "    </tr>\n",
       "    <tr>\n",
       "      <th>500.0</th>\n",
       "      <td>0.9335038363171355</td>\n",
       "      <td>0.9192546583850932</td>\n",
       "      <td>0.9801324503311258</td>\n",
       "      <td>0.8654970760233918</td>\n",
       "    </tr>\n",
       "    <tr>\n",
       "      <th>1000.0</th>\n",
       "      <td>0.9335038363171355</td>\n",
       "      <td>0.9177215189873419</td>\n",
       "      <td>0.9602649006622517</td>\n",
       "      <td>0.8787878787878788</td>\n",
       "    </tr>\n",
       "  </tbody>\n",
       "</table>\n",
       "</div>"
      ],
      "text/plain": [
       "                   accuracy                  f1              recall  \\\n",
       "laplace                                                               \n",
       "1.0      0.9411764705882353  0.9265175718849841  0.9602649006622517   \n",
       "0.1      0.9411764705882353  0.9260450160771704  0.9536423841059603   \n",
       "0.001    0.9411764705882353  0.9204152249134947  0.8807947019867549   \n",
       "1.0E-4   0.9386189258312021  0.9230769230769231  0.9536423841059603   \n",
       "0.01     0.9386189258312021  0.9172413793103448  0.8807947019867549   \n",
       "50.0     0.9360613810741688  0.9201277955271565  0.9536423841059603   \n",
       "5.0      0.9360613810741688  0.9201277955271565  0.9536423841059603   \n",
       "10.0     0.9360613810741688  0.9196141479099679  0.9470198675496688   \n",
       "100.0    0.9335038363171355  0.9197530864197532  0.9867549668874173   \n",
       "500.0    0.9335038363171355  0.9192546583850932  0.9801324503311258   \n",
       "1000.0   0.9335038363171355  0.9177215189873419  0.9602649006622517   \n",
       "\n",
       "                  precision  \n",
       "laplace                      \n",
       "1.0      0.8950617283950617  \n",
       "0.1                     0.9  \n",
       "0.001    0.9637681159420289  \n",
       "1.0E-4   0.8944099378881988  \n",
       "0.01     0.9568345323741008  \n",
       "50.0     0.8888888888888888  \n",
       "5.0      0.8888888888888888  \n",
       "10.0                0.89375  \n",
       "100.0     0.861271676300578  \n",
       "500.0    0.8654970760233918  \n",
       "1000.0   0.8787878787878788  "
      ]
     },
     "execution_count": 22,
     "metadata": {},
     "output_type": "execute_result"
    }
   ],
   "source": [
    "k.sort_values(by=metrics, ascending=[False] * len(metrics))"
   ]
  },
  {
   "cell_type": "code",
   "execution_count": null,
   "metadata": {},
   "outputs": [],
   "source": []
  }
 ],
 "metadata": {
  "kernelspec": {
   "display_name": "Python 3",
   "language": "python",
   "name": "python3"
  },
  "language_info": {
   "codemirror_mode": {
    "name": "ipython",
    "version": 3
   },
   "file_extension": ".py",
   "mimetype": "text/x-python",
   "name": "python",
   "nbconvert_exporter": "python",
   "pygments_lexer": "ipython3",
   "version": "3.6.6"
  }
 },
 "nbformat": 4,
 "nbformat_minor": 2
}
