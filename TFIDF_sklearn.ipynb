{
 "cells": [
  {
   "cell_type": "markdown",
   "metadata": {},
   "source": [
    "## 0. System Configuration"
   ]
  },
  {
   "cell_type": "markdown",
   "metadata": {},
   "source": [
    "- **RAM:** *30GB*\n",
    "- **CPU:** *12 Core - 24 thread Thread Reaper, INTEL Xenon*\n",
    "- **GPU:** *Nvidia 1080 Ti - 11GB vRAM* + *Nvidia Titan XP - 12GB vRAM* "
   ]
  },
  {
   "cell_type": "code",
   "execution_count": 1,
   "metadata": {},
   "outputs": [],
   "source": [
    "import numpy as np\n",
    "import pandas as pd\n",
    "import matplotlib.pyplot as plt\n",
    "import seaborn as sns\n",
    "import sqlite3\n",
    "%config InlineBackend.figure_format = 'retina'"
   ]
  },
  {
   "cell_type": "code",
   "execution_count": 2,
   "metadata": {},
   "outputs": [
    {
     "name": "stdout",
     "output_type": "stream",
     "text": [
      "Bag Of Words.ipynb\t   README.md\t  TFIDF_sklearn.ipynb\r\n",
      "data\t\t\t   Testing.ipynb\r\n",
      "naive-babes-sklearn.ipynb  TFIDF.ipynb\r\n"
     ]
    }
   ],
   "source": [
    "!ls"
   ]
  },
  {
   "cell_type": "markdown",
   "metadata": {},
   "source": [
    "## 1. Loading the dataset¶"
   ]
  },
  {
   "cell_type": "code",
   "execution_count": 3,
   "metadata": {},
   "outputs": [],
   "source": [
    "with sqlite3.connect('./data/reviewsV1.db') as conn:\n",
    "    data = pd.read_sql_query('SELECT * FROM Review', conn)"
   ]
  },
  {
   "cell_type": "code",
   "execution_count": 4,
   "metadata": {},
   "outputs": [],
   "source": [
    "data.drop('index', inplace=True, axis=1)"
   ]
  },
  {
   "cell_type": "markdown",
   "metadata": {},
   "source": [
    "## 2. Some Legacy Data Cleaning that causes problem in Word2Vec modelling"
   ]
  },
  {
   "cell_type": "code",
   "execution_count": 5,
   "metadata": {},
   "outputs": [],
   "source": [
    "data = data[data.index != 258456]"
   ]
  },
  {
   "cell_type": "markdown",
   "metadata": {},
   "source": [
    "## 3. Time Based Splitting"
   ]
  },
  {
   "cell_type": "code",
   "execution_count": 6,
   "metadata": {},
   "outputs": [],
   "source": [
    "data.sort_values(by='Time', inplace=True)\n",
    "data.reset_index(drop=True, inplace=True)\n",
    "TRAIN_SIZE = int(data.shape[0] * 0.7)\n",
    "TEST_SIZE = data.shape[0] - TRAIN_SIZE"
   ]
  },
  {
   "cell_type": "code",
   "execution_count": 7,
   "metadata": {},
   "outputs": [
    {
     "data": {
      "text/plain": [
       "254882"
      ]
     },
     "execution_count": 7,
     "metadata": {},
     "output_type": "execute_result"
    }
   ],
   "source": [
    "TRAIN_SIZE"
   ]
  },
  {
   "cell_type": "code",
   "execution_count": 8,
   "metadata": {},
   "outputs": [
    {
     "data": {
      "text/plain": [
       "109236"
      ]
     },
     "execution_count": 8,
     "metadata": {},
     "output_type": "execute_result"
    }
   ],
   "source": [
    "TEST_SIZE"
   ]
  },
  {
   "cell_type": "code",
   "execution_count": 9,
   "metadata": {},
   "outputs": [],
   "source": [
    "data_train = data[0: TRAIN_SIZE]\n",
    "data_test = data[TRAIN_SIZE:]"
   ]
  },
  {
   "cell_type": "markdown",
   "metadata": {},
   "source": [
    "#### 3.1 Check if the Splitting was performed properly"
   ]
  },
  {
   "cell_type": "code",
   "execution_count": 10,
   "metadata": {},
   "outputs": [],
   "source": [
    "assert(data_train.shape[0] == TRAIN_SIZE)\n",
    "assert(data_test.shape[0] == TEST_SIZE)\n",
    "assert(data.Time.max() == data_test.Time.reset_index(drop=True)[TEST_SIZE -1])\n",
    "assert(data.Time.min() == data_train.Time.reset_index(drop=True)[0])"
   ]
  },
  {
   "cell_type": "markdown",
   "metadata": {},
   "source": [
    "## 4. Training BagOfWords Model on data_train"
   ]
  },
  {
   "cell_type": "markdown",
   "metadata": {},
   "source": [
    "#### 4.1 Creating a BoW on train data"
   ]
  },
  {
   "cell_type": "code",
   "execution_count": 13,
   "metadata": {},
   "outputs": [],
   "source": [
    "from sklearn.feature_extraction.text import TfidfVectorizer"
   ]
  },
  {
   "cell_type": "code",
   "execution_count": 14,
   "metadata": {},
   "outputs": [
    {
     "data": {
      "text/plain": [
       "TfidfVectorizer(analyzer='word', binary=False, decode_error='strict',\n",
       "        dtype=<class 'numpy.int64'>, encoding='utf-8', input='content',\n",
       "        lowercase=True, max_df=1.0, max_features=5000, min_df=1,\n",
       "        ngram_range=(1, 1), norm='l2', preprocessor=None, smooth_idf=True,\n",
       "        stop_words=None, strip_accents=None, sublinear_tf=False,\n",
       "        token_pattern='(?u)\\\\b\\\\w\\\\w+\\\\b', tokenizer=None, use_idf=True,\n",
       "        vocabulary=None)"
      ]
     },
     "execution_count": 14,
     "metadata": {},
     "output_type": "execute_result"
    }
   ],
   "source": [
    "tfidf = TfidfVectorizer(max_features=5000)\n",
    "tfidf.fit(data_train.Text)"
   ]
  },
  {
   "cell_type": "code",
   "execution_count": 15,
   "metadata": {},
   "outputs": [
    {
     "data": {
      "text/plain": [
       "(254882, 5000)"
      ]
     },
     "execution_count": 15,
     "metadata": {},
     "output_type": "execute_result"
    }
   ],
   "source": [
    "Dtrain = tfidf.transform(data_train.Text)\n",
    "Dtrain.get_shape()"
   ]
  },
  {
   "cell_type": "code",
   "execution_count": 16,
   "metadata": {},
   "outputs": [],
   "source": [
    "Dtrain = Dtrain.toarray()  # Almost 10.2 GB of RAM usage"
   ]
  },
  {
   "cell_type": "markdown",
   "metadata": {},
   "source": [
    "#### 4.2 Creating a BoW on test data"
   ]
  },
  {
   "cell_type": "code",
   "execution_count": 17,
   "metadata": {},
   "outputs": [
    {
     "data": {
      "text/plain": [
       "(109236, 5000)"
      ]
     },
     "execution_count": 17,
     "metadata": {},
     "output_type": "execute_result"
    }
   ],
   "source": [
    "Dtest = tfidf.transform(data_test.Text)\n",
    "Dtest.get_shape()"
   ]
  },
  {
   "cell_type": "code",
   "execution_count": 18,
   "metadata": {},
   "outputs": [
    {
     "data": {
      "text/plain": [
       "4369440000"
      ]
     },
     "execution_count": 18,
     "metadata": {},
     "output_type": "execute_result"
    }
   ],
   "source": [
    "109236 * 5000 * 8"
   ]
  },
  {
   "cell_type": "code",
   "execution_count": 19,
   "metadata": {},
   "outputs": [],
   "source": [
    "Dtest = Dtest.toarray()  # Almost 4.3 GB of RAM usage"
   ]
  },
  {
   "cell_type": "code",
   "execution_count": 22,
   "metadata": {},
   "outputs": [],
   "source": [
    "assert(any(Dtrain[0] <= 1) == True)\n",
    "assert(any(Dtest[0] <= 1) == True)"
   ]
  },
  {
   "cell_type": "markdown",
   "metadata": {},
   "source": [
    "## 5. K-Fold Cross Validation"
   ]
  },
  {
   "cell_type": "code",
   "execution_count": 26,
   "metadata": {},
   "outputs": [],
   "source": [
    "from sklearn.model_selection import cross_validate"
   ]
  },
  {
   "cell_type": "markdown",
   "metadata": {},
   "source": [
    "*Scoring parameters*\n",
    "\n",
    "**http://scikit-learn.org/stable/modules/model_evaluation.html#scoring-parameter**"
   ]
  },
  {
   "cell_type": "markdown",
   "metadata": {},
   "source": [
    "```python\n",
    "['accuracy',\n",
    " 'adjusted_mutual_info_score',\n",
    " 'adjusted_rand_score',\n",
    " 'average_precision',\n",
    " 'completeness_score',\n",
    " 'explained_variance',\n",
    " 'f1',\n",
    " 'f1_macro',\n",
    " 'f1_micro',\n",
    " 'f1_samples',\n",
    " 'f1_weighted',\n",
    " 'fowlkes_mallows_score',\n",
    " 'homogeneity_score',\n",
    " 'mutual_info_score',\n",
    " 'neg_log_loss',\n",
    " 'neg_mean_absolute_error',\n",
    " 'neg_mean_squared_error',\n",
    " 'neg_mean_squared_log_error',\n",
    " 'neg_median_absolute_error',\n",
    " 'normalized_mutual_info_score',\n",
    " 'precision',\n",
    " 'precision_macro',\n",
    " 'precision_micro',\n",
    " 'precision_samples',\n",
    " 'precision_weighted',\n",
    " 'r2',\n",
    " 'recall',\n",
    " 'recall_macro',\n",
    " 'recall_micro',\n",
    " 'recall_samples',\n",
    " 'recall_weighted',\n",
    " 'roc_auc',\n",
    " 'v_measure_score']\n",
    "```"
   ]
  },
  {
   "cell_type": "markdown",
   "metadata": {},
   "source": [
    "We are going to optimize the $\\alpha$ parameter in the Laplace Smoothing using F1 score but however we are going the report the following metrics in each iterations.\n",
    "\n",
    "- Accuracy\n",
    "- F1 score\n",
    "- Recall\n",
    "- Precison\n",
    "- Confusion Matrix\n",
    "- Training F1 score\n",
    "- Valiation F1 score\n",
    "- Training Recall\n",
    "- Validation Recall\n",
    "- Training Precision\n",
    "- Validation Precision\n",
    "- Average Fitting Time\n",
    "- Average Prediction time"
   ]
  },
  {
   "cell_type": "markdown",
   "metadata": {},
   "source": [
    "#### 5.1 KFold Cross Validation"
   ]
  },
  {
   "cell_type": "code",
   "execution_count": 27,
   "metadata": {},
   "outputs": [],
   "source": [
    "NUM_FOLDS = 10\n",
    "scorings = ['accuracy', 'f1', 'recall', 'precision']"
   ]
  },
  {
   "cell_type": "code",
   "execution_count": 28,
   "metadata": {},
   "outputs": [],
   "source": [
    "from prettytable import PrettyTable\n",
    "from IPython.core.display import display, HTML"
   ]
  },
  {
   "cell_type": "code",
   "execution_count": 29,
   "metadata": {},
   "outputs": [],
   "source": [
    "def BC_Kfold_cross_validation(\n",
    "    clf,\n",
    "    features,\n",
    "    labels,\n",
    "    scorings,\n",
    "    cv,\n",
    "    test_size,\n",
    "    shuffle,\n",
    "    **kwargs):\n",
    "    \"\"\"\n",
    "    Perform Kfold cross validation for a Binary Classifier.\n",
    "    \n",
    "    :param clf: Classifier to use for fitting the data\n",
    "    :param features: Features for the dataset. Expected np.matrix, np.array\n",
    "    :param labels: Labels for the dataset. Expected np.array, list\n",
    "    :param scorings: Scoring algorithms to evaluate\n",
    "    :param test_size: Splitting ratio while splitting the dataset for train and CV.\n",
    "    :param cv: Number of iterations cross validation is perfomed.\n",
    "    :param shuffle: Shuffle the data each time for cross validations.\n",
    "    \"\"\"\n",
    "    table = kwargs.get('ptable')\n",
    "    field_names=[\n",
    "        \"fit_time\",\n",
    "        \"score_time\",\n",
    "        \"train_accuracy\",\n",
    "        \"cv_accuracy\",\n",
    "        \"train_f1\",\n",
    "        \"cv_f1\",\n",
    "        \"train_recall\",\n",
    "        \"cv_recall\",\n",
    "        \"train_precision\",\n",
    "        \"cv_precision\"\n",
    "    ]\n",
    "    if shuffle:\n",
    "        from sklearn.model_selection import ShuffleSplit\n",
    "        CV = ShuffleSplit(n_splits=cv, test_size=test_size, random_state=42)\n",
    "    else:\n",
    "        CV = cv\n",
    "        \n",
    "    scores = cross_validate(\n",
    "        clf,\n",
    "        features,\n",
    "        labels,\n",
    "        scoring=scorings,\n",
    "        cv=CV,\n",
    "        verbose=2,\n",
    "        return_train_score=True)\n",
    "    \n",
    "    ## Formatted strings would only work in python >= 3.6\n",
    "    table_row = []\n",
    "    # Report the timings\n",
    "    table_row.append(round(scores['fit_time'].mean(), 5))\n",
    "    table_row.append(round(scores['score_time'].mean(), 5))\n",
    "    table_row.append(round(scores['train_accuracy'].mean(), 5))\n",
    "    table_row.append(round(scores['test_accuracy'].mean(), 5))\n",
    "    table_row.append(round(scores['train_f1'].mean(), 5))\n",
    "    table_row.append(round(scores['test_f1'].mean(), 5))\n",
    "    table_row.append(round(scores['train_recall'].mean(), 5))\n",
    "    table_row.append(round(scores['test_recall'].mean(), 5))\n",
    "    table_row.append(round(scores['train_precision'].mean(), 5))\n",
    "    table_row.append(round(scores['test_precision'].mean(), 5))\n",
    "    hparams = kwargs.get(\"hyperparams\", None)\n",
    "    if hparams:\n",
    "        for each in hparams:\n",
    "            field_names.append(each.upper())\n",
    "            table_row.append(clf.get_params()[each])\n",
    "    table.field_names = field_names\n",
    "    table.add_row(table_row)\n",
    "    print(f'Done for {clf}')\n",
    "    return table"
   ]
  },
  {
   "cell_type": "code",
   "execution_count": 30,
   "metadata": {},
   "outputs": [],
   "source": [
    "def fit_params_with_ALPHA(ALPHAS, features, labels, scorings, cv, **kwargs):\n",
    "    \"\"\"\n",
    "    Fit KNN with all combination of ALGO and NEIGHBOURS\n",
    "    in each iterrations.\n",
    "    \n",
    "    :param ALGO: List of algorithms to try\n",
    "    :param NEIGHBOURS: List of neighbours to try\n",
    "    \"\"\"\n",
    "    table = PrettyTable()\n",
    "    for ALPHA in ALPHAS:\n",
    "        clf = MultinomialNB(alpha=ALPHA)\n",
    "        test_size = kwargs.get('test_size', 0.3)\n",
    "        shuffle = kwargs.get('shuffle', True)\n",
    "        hparams = kwargs.get('hyperparams')\n",
    "        table = BC_Kfold_cross_validation(clf,\n",
    "                                            features,\n",
    "                                            labels,\n",
    "                                            scorings,\n",
    "                                            cv,\n",
    "                                            test_size,\n",
    "                                            shuffle,\n",
    "                                            hyperparams=hparams,\n",
    "                                            ptable=table)\n",
    "    return table"
   ]
  },
  {
   "cell_type": "code",
   "execution_count": 31,
   "metadata": {},
   "outputs": [],
   "source": [
    "from sklearn.naive_bayes import MultinomialNB"
   ]
  },
  {
   "cell_type": "code",
   "execution_count": 32,
   "metadata": {},
   "outputs": [],
   "source": [
    "features = Dtrain\n",
    "labels = data_train.Polarity.apply(lambda x: 1 if x == 'positive' else 0).values"
   ]
  },
  {
   "cell_type": "code",
   "execution_count": 33,
   "metadata": {},
   "outputs": [
    {
     "data": {
      "text/plain": [
       "(254882, 5000)"
      ]
     },
     "execution_count": 33,
     "metadata": {},
     "output_type": "execute_result"
    }
   ],
   "source": [
    "features.shape"
   ]
  },
  {
   "cell_type": "code",
   "execution_count": 34,
   "metadata": {},
   "outputs": [
    {
     "data": {
      "text/plain": [
       "(254882,)"
      ]
     },
     "execution_count": 34,
     "metadata": {},
     "output_type": "execute_result"
    }
   ],
   "source": [
    "labels.shape"
   ]
  },
  {
   "cell_type": "code",
   "execution_count": 35,
   "metadata": {
    "scrolled": false
   },
   "outputs": [
    {
     "name": "stdout",
     "output_type": "stream",
     "text": [
      "[CV]  ................................................................\n",
      "[CV] ................................................. , total=   9.6s\n",
      "[CV]  ................................................................\n"
     ]
    },
    {
     "name": "stderr",
     "output_type": "stream",
     "text": [
      "[Parallel(n_jobs=1)]: Done   1 out of   1 | elapsed:   13.7s remaining:    0.0s\n"
     ]
    },
    {
     "name": "stdout",
     "output_type": "stream",
     "text": [
      "[CV] ................................................. , total=   9.4s\n",
      "[CV]  ................................................................\n",
      "[CV] ................................................. , total=   9.3s\n",
      "[CV]  ................................................................\n",
      "[CV] ................................................. , total=   9.3s\n",
      "[CV]  ................................................................\n",
      "[CV] ................................................. , total=   9.4s\n",
      "[CV]  ................................................................\n",
      "[CV] ................................................. , total=   9.5s\n",
      "[CV]  ................................................................\n",
      "[CV] ................................................. , total=   9.3s\n",
      "[CV]  ................................................................\n",
      "[CV] ................................................. , total=   9.3s\n",
      "[CV]  ................................................................\n",
      "[CV] ................................................. , total=   9.3s\n",
      "[CV]  ................................................................\n",
      "[CV] ................................................. , total=   9.2s\n",
      "Done for MultinomialNB(alpha=0.0001, class_prior=None, fit_prior=True)\n",
      "[CV]  ................................................................\n"
     ]
    },
    {
     "name": "stderr",
     "output_type": "stream",
     "text": [
      "[Parallel(n_jobs=1)]: Done  10 out of  10 | elapsed:  2.3min finished\n"
     ]
    },
    {
     "name": "stdout",
     "output_type": "stream",
     "text": [
      "[CV] ................................................. , total=   9.2s\n",
      "[CV]  ................................................................\n"
     ]
    },
    {
     "name": "stderr",
     "output_type": "stream",
     "text": [
      "[Parallel(n_jobs=1)]: Done   1 out of   1 | elapsed:   13.4s remaining:    0.0s\n"
     ]
    },
    {
     "name": "stdout",
     "output_type": "stream",
     "text": [
      "[CV] ................................................. , total=   9.2s\n",
      "[CV]  ................................................................\n",
      "[CV] ................................................. , total=   9.3s\n",
      "[CV]  ................................................................\n",
      "[CV] ................................................. , total=   9.2s\n",
      "[CV]  ................................................................\n",
      "[CV] ................................................. , total=   9.2s\n",
      "[CV]  ................................................................\n",
      "[CV] ................................................. , total=   9.2s\n",
      "[CV]  ................................................................\n",
      "[CV] ................................................. , total=   9.3s\n",
      "[CV]  ................................................................\n",
      "[CV] ................................................. , total=   9.2s\n",
      "[CV]  ................................................................\n",
      "[CV] ................................................. , total=   9.4s\n",
      "[CV]  ................................................................\n",
      "[CV] ................................................. , total=   9.1s\n",
      "Done for MultinomialNB(alpha=0.001, class_prior=None, fit_prior=True)\n",
      "[CV]  ................................................................\n"
     ]
    },
    {
     "name": "stderr",
     "output_type": "stream",
     "text": [
      "[Parallel(n_jobs=1)]: Done  10 out of  10 | elapsed:  2.2min finished\n"
     ]
    },
    {
     "name": "stdout",
     "output_type": "stream",
     "text": [
      "[CV] ................................................. , total=   9.3s\n",
      "[CV]  ................................................................\n"
     ]
    },
    {
     "name": "stderr",
     "output_type": "stream",
     "text": [
      "[Parallel(n_jobs=1)]: Done   1 out of   1 | elapsed:   13.6s remaining:    0.0s\n"
     ]
    },
    {
     "name": "stdout",
     "output_type": "stream",
     "text": [
      "[CV] ................................................. , total=   9.2s\n",
      "[CV]  ................................................................\n",
      "[CV] ................................................. , total=   9.2s\n",
      "[CV]  ................................................................\n",
      "[CV] ................................................. , total=   9.3s\n",
      "[CV]  ................................................................\n",
      "[CV] ................................................. , total=   9.2s\n",
      "[CV]  ................................................................\n",
      "[CV] ................................................. , total=   9.2s\n",
      "[CV]  ................................................................\n",
      "[CV] ................................................. , total=   9.3s\n",
      "[CV]  ................................................................\n",
      "[CV] ................................................. , total=   9.3s\n",
      "[CV]  ................................................................\n",
      "[CV] ................................................. , total=   9.3s\n",
      "[CV]  ................................................................\n",
      "[CV] ................................................. , total=   9.3s\n"
     ]
    },
    {
     "name": "stderr",
     "output_type": "stream",
     "text": [
      "[Parallel(n_jobs=1)]: Done  10 out of  10 | elapsed:  2.3min finished\n"
     ]
    },
    {
     "name": "stdout",
     "output_type": "stream",
     "text": [
      "Done for MultinomialNB(alpha=0.01, class_prior=None, fit_prior=True)\n",
      "[CV]  ................................................................\n",
      "[CV] ................................................. , total=   9.3s\n",
      "[CV]  ................................................................\n"
     ]
    },
    {
     "name": "stderr",
     "output_type": "stream",
     "text": [
      "[Parallel(n_jobs=1)]: Done   1 out of   1 | elapsed:   13.8s remaining:    0.0s\n"
     ]
    },
    {
     "name": "stdout",
     "output_type": "stream",
     "text": [
      "[CV] ................................................. , total=   9.5s\n",
      "[CV]  ................................................................\n",
      "[CV] ................................................. , total=   9.4s\n",
      "[CV]  ................................................................\n",
      "[CV] ................................................. , total=   9.2s\n",
      "[CV]  ................................................................\n",
      "[CV] ................................................. , total=   9.2s\n",
      "[CV]  ................................................................\n",
      "[CV] ................................................. , total=   9.2s\n",
      "[CV]  ................................................................\n",
      "[CV] ................................................. , total=   9.3s\n",
      "[CV]  ................................................................\n",
      "[CV] ................................................. , total=   9.3s\n",
      "[CV]  ................................................................\n",
      "[CV] ................................................. , total=   9.2s\n",
      "[CV]  ................................................................\n",
      "[CV] ................................................. , total=   9.2s\n"
     ]
    },
    {
     "name": "stderr",
     "output_type": "stream",
     "text": [
      "[Parallel(n_jobs=1)]: Done  10 out of  10 | elapsed:  2.3min finished\n"
     ]
    },
    {
     "name": "stdout",
     "output_type": "stream",
     "text": [
      "Done for MultinomialNB(alpha=0.1, class_prior=None, fit_prior=True)\n",
      "[CV]  ................................................................\n",
      "[CV] ................................................. , total=   9.4s\n",
      "[CV]  ................................................................\n"
     ]
    },
    {
     "name": "stderr",
     "output_type": "stream",
     "text": [
      "[Parallel(n_jobs=1)]: Done   1 out of   1 | elapsed:   13.8s remaining:    0.0s\n"
     ]
    },
    {
     "name": "stdout",
     "output_type": "stream",
     "text": [
      "[CV] ................................................. , total=   9.3s\n",
      "[CV]  ................................................................\n",
      "[CV] ................................................. , total=   9.3s\n",
      "[CV]  ................................................................\n",
      "[CV] ................................................. , total=   9.2s\n",
      "[CV]  ................................................................\n",
      "[CV] ................................................. , total=   9.2s\n",
      "[CV]  ................................................................\n",
      "[CV] ................................................. , total=   9.2s\n",
      "[CV]  ................................................................\n",
      "[CV] ................................................. , total=   9.2s\n",
      "[CV]  ................................................................\n",
      "[CV] ................................................. , total=   9.2s\n",
      "[CV]  ................................................................\n",
      "[CV] ................................................. , total=   9.2s\n",
      "[CV]  ................................................................\n",
      "[CV] ................................................. , total=   9.6s\n",
      "Done for MultinomialNB(alpha=1, class_prior=None, fit_prior=True)\n",
      "[CV]  ................................................................\n"
     ]
    },
    {
     "name": "stderr",
     "output_type": "stream",
     "text": [
      "[Parallel(n_jobs=1)]: Done  10 out of  10 | elapsed:  2.3min finished\n"
     ]
    },
    {
     "name": "stdout",
     "output_type": "stream",
     "text": [
      "[CV] ................................................. , total=   9.5s\n"
     ]
    },
    {
     "name": "stderr",
     "output_type": "stream",
     "text": [
      "[Parallel(n_jobs=1)]: Done   1 out of   1 | elapsed:   14.0s remaining:    0.0s\n"
     ]
    },
    {
     "name": "stdout",
     "output_type": "stream",
     "text": [
      "[CV]  ................................................................\n",
      "[CV] ................................................. , total=   9.4s\n",
      "[CV]  ................................................................\n",
      "[CV] ................................................. , total=   9.5s\n",
      "[CV]  ................................................................\n",
      "[CV] ................................................. , total=   9.5s\n",
      "[CV]  ................................................................\n",
      "[CV] ................................................. , total=   9.5s\n",
      "[CV]  ................................................................\n",
      "[CV] ................................................. , total=   9.4s\n",
      "[CV]  ................................................................\n",
      "[CV] ................................................. , total=   9.5s\n",
      "[CV]  ................................................................\n",
      "[CV] ................................................. , total=   9.5s\n",
      "[CV]  ................................................................\n",
      "[CV] ................................................. , total=   9.4s\n",
      "[CV]  ................................................................\n",
      "[CV] ................................................. , total=   9.4s\n",
      "Done for MultinomialNB(alpha=5, class_prior=None, fit_prior=True)\n",
      "[CV]  ................................................................\n"
     ]
    },
    {
     "name": "stderr",
     "output_type": "stream",
     "text": [
      "[Parallel(n_jobs=1)]: Done  10 out of  10 | elapsed:  2.3min finished\n"
     ]
    },
    {
     "name": "stdout",
     "output_type": "stream",
     "text": [
      "[CV] ................................................. , total=   9.3s\n",
      "[CV]  ................................................................\n"
     ]
    },
    {
     "name": "stderr",
     "output_type": "stream",
     "text": [
      "[Parallel(n_jobs=1)]: Done   1 out of   1 | elapsed:   13.6s remaining:    0.0s\n"
     ]
    },
    {
     "name": "stdout",
     "output_type": "stream",
     "text": [
      "[CV] ................................................. , total=   9.5s\n",
      "[CV]  ................................................................\n",
      "[CV] ................................................. , total=   9.3s\n",
      "[CV]  ................................................................\n",
      "[CV] ................................................. , total=   9.4s\n",
      "[CV]  ................................................................\n",
      "[CV] ................................................. , total=   9.3s\n",
      "[CV]  ................................................................\n",
      "[CV] ................................................. , total=   9.4s\n",
      "[CV]  ................................................................\n",
      "[CV] ................................................. , total=   9.3s\n",
      "[CV]  ................................................................\n",
      "[CV] ................................................. , total=   9.3s\n",
      "[CV]  ................................................................\n",
      "[CV] ................................................. , total=   9.3s\n",
      "[CV]  ................................................................\n",
      "[CV] ................................................. , total=   9.3s\n",
      "Done for MultinomialNB(alpha=10, class_prior=None, fit_prior=True)\n",
      "[CV]  ................................................................\n"
     ]
    },
    {
     "name": "stderr",
     "output_type": "stream",
     "text": [
      "[Parallel(n_jobs=1)]: Done  10 out of  10 | elapsed:  2.3min finished\n"
     ]
    },
    {
     "name": "stdout",
     "output_type": "stream",
     "text": [
      "[CV] ................................................. , total=   9.3s\n",
      "[CV]  ................................................................\n"
     ]
    },
    {
     "name": "stderr",
     "output_type": "stream",
     "text": [
      "[Parallel(n_jobs=1)]: Done   1 out of   1 | elapsed:   13.6s remaining:    0.0s\n"
     ]
    },
    {
     "name": "stdout",
     "output_type": "stream",
     "text": [
      "[CV] ................................................. , total=   9.5s\n",
      "[CV]  ................................................................\n",
      "[CV] ................................................. , total=   9.4s\n",
      "[CV]  ................................................................\n"
     ]
    },
    {
     "name": "stderr",
     "output_type": "stream",
     "text": [
      "[Parallel(n_jobs=1)]: Done   1 out of   1 | elapsed:   13.5s remaining:    0.0s\n"
     ]
    },
    {
     "name": "stdout",
     "output_type": "stream",
     "text": [
      "[CV] ................................................. , total=   9.3s\n",
      "[CV]  ................................................................\n",
      "[CV] ................................................. , total=   9.2s\n",
      "[CV]  ................................................................\n",
      "[CV] ................................................. , total=   9.1s\n",
      "[CV]  ................................................................\n",
      "[CV] ................................................. , total=   9.2s\n",
      "[CV]  ................................................................\n",
      "[CV] ................................................. , total=   9.1s\n",
      "[CV]  ................................................................\n",
      "[CV] ................................................. , total=   9.2s\n",
      "[CV]  ................................................................\n",
      "[CV] ................................................. , total=   9.2s\n",
      "[CV]  ................................................................\n",
      "[CV] ................................................. , total=   9.2s\n",
      "[CV]  ................................................................\n",
      "[CV] ................................................. , total=   9.2s\n"
     ]
    },
    {
     "name": "stderr",
     "output_type": "stream",
     "text": [
      "[Parallel(n_jobs=1)]: Done  10 out of  10 | elapsed:  2.2min finished\n"
     ]
    },
    {
     "name": "stdout",
     "output_type": "stream",
     "text": [
      "Done for MultinomialNB(alpha=100, class_prior=None, fit_prior=True)\n",
      "[CV]  ................................................................\n",
      "[CV] ................................................. , total=   9.2s\n",
      "[CV]  ................................................................\n"
     ]
    },
    {
     "name": "stderr",
     "output_type": "stream",
     "text": [
      "[Parallel(n_jobs=1)]: Done   1 out of   1 | elapsed:   13.3s remaining:    0.0s\n"
     ]
    },
    {
     "name": "stdout",
     "output_type": "stream",
     "text": [
      "[CV] ................................................. , total=   9.1s\n",
      "[CV]  ................................................................\n",
      "[CV] ................................................. , total=   9.3s\n",
      "[CV]  ................................................................\n",
      "[CV] ................................................. , total=   9.2s\n",
      "[CV]  ................................................................\n",
      "[CV] ................................................. , total=   9.3s\n",
      "[CV]  ................................................................\n",
      "[CV] ................................................. , total=   9.2s\n",
      "[CV]  ................................................................\n",
      "[CV] ................................................. , total=   9.5s\n",
      "[CV]  ................................................................\n",
      "[CV] ................................................. , total=   9.4s\n",
      "[CV]  ................................................................\n",
      "[CV] ................................................. , total=   9.4s\n",
      "[CV]  ................................................................\n",
      "[CV] ................................................. , total=   9.4s\n",
      "Done for MultinomialNB(alpha=500, class_prior=None, fit_prior=True)\n",
      "[CV]  ................................................................\n"
     ]
    },
    {
     "name": "stderr",
     "output_type": "stream",
     "text": [
      "[Parallel(n_jobs=1)]: Done  10 out of  10 | elapsed:  2.3min finished\n"
     ]
    },
    {
     "name": "stdout",
     "output_type": "stream",
     "text": [
      "[CV] ................................................. , total=   9.5s\n",
      "[CV]  ................................................................\n"
     ]
    },
    {
     "name": "stderr",
     "output_type": "stream",
     "text": [
      "[Parallel(n_jobs=1)]: Done   1 out of   1 | elapsed:   13.8s remaining:    0.0s\n"
     ]
    },
    {
     "name": "stdout",
     "output_type": "stream",
     "text": [
      "[CV] ................................................. , total=   9.4s\n",
      "[CV]  ................................................................\n",
      "[CV] ................................................. , total=   9.3s\n",
      "[CV]  ................................................................\n",
      "[CV] ................................................. , total=   9.2s\n",
      "[CV]  ................................................................\n",
      "[CV] ................................................. , total=   9.4s\n",
      "[CV]  ................................................................\n",
      "[CV] ................................................. , total=   9.2s\n",
      "[CV]  ................................................................\n",
      "[CV] ................................................. , total=   9.3s\n",
      "[CV]  ................................................................\n",
      "[CV] ................................................. , total=   9.3s\n",
      "[CV]  ................................................................\n",
      "[CV] ................................................. , total=   9.2s\n",
      "[CV]  ................................................................\n",
      "[CV] ................................................. , total=   9.4s\n",
      "Done for MultinomialNB(alpha=1000, class_prior=None, fit_prior=True)\n"
     ]
    },
    {
     "name": "stderr",
     "output_type": "stream",
     "text": [
      "[Parallel(n_jobs=1)]: Done  10 out of  10 | elapsed:  2.3min finished\n"
     ]
    }
   ],
   "source": [
    "alphas = [0.0001, 0.001, 0.01, 0.1, 1, 5, 10, 50, 100, 500, 1000]\n",
    "table = fit_params_with_ALPHA(alphas, features, labels, \n",
    "                              scorings, NUM_FOLDS, hyperparams=['alpha'])"
   ]
  },
  {
   "cell_type": "code",
   "execution_count": 36,
   "metadata": {},
   "outputs": [
    {
     "data": {
      "text/html": [
       "<table>\n",
       "    <tr>\n",
       "        <th>fit_time</th>\n",
       "        <th>score_time</th>\n",
       "        <th>train_accuracy</th>\n",
       "        <th>cv_accuracy</th>\n",
       "        <th>train_f1</th>\n",
       "        <th>cv_f1</th>\n",
       "        <th>train_recall</th>\n",
       "        <th>cv_recall</th>\n",
       "        <th>train_precision</th>\n",
       "        <th>cv_precision</th>\n",
       "        <th>ALPHA</th>\n",
       "    </tr>\n",
       "    <tr>\n",
       "        <td>7.69887</td>\n",
       "        <td>1.64806</td>\n",
       "        <td>0.87964</td>\n",
       "        <td>0.87727</td>\n",
       "        <td>0.93368</td>\n",
       "        <td>0.93242</td>\n",
       "        <td>0.99554</td>\n",
       "        <td>0.99561</td>\n",
       "        <td>0.87906</td>\n",
       "        <td>0.87677</td>\n",
       "        <td>0.0001</td>\n",
       "    </tr>\n",
       "    <tr>\n",
       "        <td>7.5817</td>\n",
       "        <td>1.64789</td>\n",
       "        <td>0.87964</td>\n",
       "        <td>0.87727</td>\n",
       "        <td>0.93368</td>\n",
       "        <td>0.93242</td>\n",
       "        <td>0.99554</td>\n",
       "        <td>0.99561</td>\n",
       "        <td>0.87905</td>\n",
       "        <td>0.87677</td>\n",
       "        <td>0.001</td>\n",
       "    </tr>\n",
       "    <tr>\n",
       "        <td>7.66021</td>\n",
       "        <td>1.60375</td>\n",
       "        <td>0.87963</td>\n",
       "        <td>0.87726</td>\n",
       "        <td>0.93367</td>\n",
       "        <td>0.93242</td>\n",
       "        <td>0.99554</td>\n",
       "        <td>0.99561</td>\n",
       "        <td>0.87904</td>\n",
       "        <td>0.87677</td>\n",
       "        <td>0.01</td>\n",
       "    </tr>\n",
       "    <tr>\n",
       "        <td>7.63644</td>\n",
       "        <td>1.64629</td>\n",
       "        <td>0.87954</td>\n",
       "        <td>0.87714</td>\n",
       "        <td>0.93363</td>\n",
       "        <td>0.93235</td>\n",
       "        <td>0.99557</td>\n",
       "        <td>0.99562</td>\n",
       "        <td>0.87894</td>\n",
       "        <td>0.87664</td>\n",
       "        <td>0.1</td>\n",
       "    </tr>\n",
       "    <tr>\n",
       "        <td>7.61501</td>\n",
       "        <td>1.6684</td>\n",
       "        <td>0.87807</td>\n",
       "        <td>0.87577</td>\n",
       "        <td>0.93288</td>\n",
       "        <td>0.93166</td>\n",
       "        <td>0.99571</td>\n",
       "        <td>0.99573</td>\n",
       "        <td>0.87752</td>\n",
       "        <td>0.87533</td>\n",
       "        <td>1</td>\n",
       "    </tr>\n",
       "    <tr>\n",
       "        <td>7.74889</td>\n",
       "        <td>1.71424</td>\n",
       "        <td>0.87107</td>\n",
       "        <td>0.86922</td>\n",
       "        <td>0.92937</td>\n",
       "        <td>0.92838</td>\n",
       "        <td>0.99675</td>\n",
       "        <td>0.99677</td>\n",
       "        <td>0.87052</td>\n",
       "        <td>0.86878</td>\n",
       "        <td>5</td>\n",
       "    </tr>\n",
       "    <tr>\n",
       "        <td>7.70566</td>\n",
       "        <td>1.64466</td>\n",
       "        <td>0.86356</td>\n",
       "        <td>0.86225</td>\n",
       "        <td>0.92565</td>\n",
       "        <td>0.92493</td>\n",
       "        <td>0.99797</td>\n",
       "        <td>0.99796</td>\n",
       "        <td>0.8631</td>\n",
       "        <td>0.86187</td>\n",
       "        <td>10</td>\n",
       "    </tr>\n",
       "    <tr>\n",
       "        <td>7.68087</td>\n",
       "        <td>1.62195</td>\n",
       "        <td>0.85112</td>\n",
       "        <td>0.85051</td>\n",
       "        <td>0.91956</td>\n",
       "        <td>0.91921</td>\n",
       "        <td>0.99998</td>\n",
       "        <td>0.99996</td>\n",
       "        <td>0.85112</td>\n",
       "        <td>0.85052</td>\n",
       "        <td>50</td>\n",
       "    </tr>\n",
       "    <tr>\n",
       "        <td>7.56968</td>\n",
       "        <td>1.6364</td>\n",
       "        <td>0.851</td>\n",
       "        <td>0.8504</td>\n",
       "        <td>0.9195</td>\n",
       "        <td>0.91916</td>\n",
       "        <td>1.0</td>\n",
       "        <td>1.0</td>\n",
       "        <td>0.851</td>\n",
       "        <td>0.8504</td>\n",
       "        <td>100</td>\n",
       "    </tr>\n",
       "    <tr>\n",
       "        <td>7.63088</td>\n",
       "        <td>1.67178</td>\n",
       "        <td>0.851</td>\n",
       "        <td>0.8504</td>\n",
       "        <td>0.9195</td>\n",
       "        <td>0.91916</td>\n",
       "        <td>1.0</td>\n",
       "        <td>1.0</td>\n",
       "        <td>0.851</td>\n",
       "        <td>0.8504</td>\n",
       "        <td>500</td>\n",
       "    </tr>\n",
       "    <tr>\n",
       "        <td>7.66213</td>\n",
       "        <td>1.66287</td>\n",
       "        <td>0.851</td>\n",
       "        <td>0.8504</td>\n",
       "        <td>0.9195</td>\n",
       "        <td>0.91916</td>\n",
       "        <td>1.0</td>\n",
       "        <td>1.0</td>\n",
       "        <td>0.851</td>\n",
       "        <td>0.8504</td>\n",
       "        <td>1000</td>\n",
       "    </tr>\n",
       "</table>"
      ],
      "text/plain": [
       "<IPython.core.display.HTML object>"
      ]
     },
     "metadata": {},
     "output_type": "display_data"
    }
   ],
   "source": [
    "display(HTML(table.get_html_string()))"
   ]
  },
  {
   "cell_type": "markdown",
   "metadata": {},
   "source": [
    "We can see that the `recall` increses but the `precison` decreases. Hence `f1` score would be a good method to figure out the right alpha value. It seems the minimum value of alpha of **0.0001** is best."
   ]
  },
  {
   "cell_type": "markdown",
   "metadata": {},
   "source": [
    "## Reporting the different evaluation metics for `Alpha = 0.0001`"
   ]
  },
  {
   "cell_type": "code",
   "execution_count": 37,
   "metadata": {},
   "outputs": [],
   "source": [
    "report = PrettyTable(field_names=[\n",
    "    'test_accuracy',\n",
    "    'test_f1',\n",
    "    'test_recall',\n",
    "    'test_precision'\n",
    "])"
   ]
  },
  {
   "cell_type": "code",
   "execution_count": 38,
   "metadata": {},
   "outputs": [
    {
     "data": {
      "text/plain": [
       "MultinomialNB(alpha=0.0001, class_prior=None, fit_prior=True)"
      ]
     },
     "execution_count": 38,
     "metadata": {},
     "output_type": "execute_result"
    }
   ],
   "source": [
    "clf = MultinomialNB(alpha=0.0001)\n",
    "clf.fit(features, labels)"
   ]
  },
  {
   "cell_type": "code",
   "execution_count": 39,
   "metadata": {},
   "outputs": [],
   "source": [
    "preds = clf.predict(Dtest)"
   ]
  },
  {
   "cell_type": "code",
   "execution_count": 40,
   "metadata": {},
   "outputs": [],
   "source": [
    "actual = data_test.Polarity.apply(lambda x: 1 if x == 'positive' else 0).values"
   ]
  },
  {
   "cell_type": "markdown",
   "metadata": {},
   "source": [
    "#### Test Accuracy "
   ]
  },
  {
   "cell_type": "code",
   "execution_count": 41,
   "metadata": {},
   "outputs": [],
   "source": [
    "from sklearn.metrics import accuracy_score"
   ]
  },
  {
   "cell_type": "code",
   "execution_count": 42,
   "metadata": {},
   "outputs": [],
   "source": [
    "ta = round(accuracy_score(actual, preds), 5)"
   ]
  },
  {
   "cell_type": "markdown",
   "metadata": {},
   "source": [
    "#### Test Recall"
   ]
  },
  {
   "cell_type": "code",
   "execution_count": 45,
   "metadata": {},
   "outputs": [],
   "source": [
    "from sklearn.metrics import recall_score"
   ]
  },
  {
   "cell_type": "code",
   "execution_count": 46,
   "metadata": {},
   "outputs": [],
   "source": [
    "tr = round(recall_score(actual, preds), 5)"
   ]
  },
  {
   "cell_type": "markdown",
   "metadata": {},
   "source": [
    "#### Test Precison"
   ]
  },
  {
   "cell_type": "code",
   "execution_count": 47,
   "metadata": {},
   "outputs": [],
   "source": [
    "from sklearn.metrics import precision_score"
   ]
  },
  {
   "cell_type": "code",
   "execution_count": 48,
   "metadata": {},
   "outputs": [],
   "source": [
    "tp = round(precision_score(actual, preds), 5)"
   ]
  },
  {
   "cell_type": "markdown",
   "metadata": {},
   "source": [
    "#### Test F1"
   ]
  },
  {
   "cell_type": "code",
   "execution_count": 49,
   "metadata": {},
   "outputs": [],
   "source": [
    "from sklearn.metrics import f1_score"
   ]
  },
  {
   "cell_type": "code",
   "execution_count": 50,
   "metadata": {},
   "outputs": [],
   "source": [
    "tf1 = round(f1_score(actual, preds), 5)"
   ]
  },
  {
   "cell_type": "code",
   "execution_count": 51,
   "metadata": {},
   "outputs": [],
   "source": [
    "report.add_row([ta, tf1, tr, tp])"
   ]
  },
  {
   "cell_type": "code",
   "execution_count": 52,
   "metadata": {},
   "outputs": [
    {
     "name": "stdout",
     "output_type": "stream",
     "text": [
      "+---------------+---------+-------------+----------------+\n",
      "| test_accuracy | test_f1 | test_recall | test_precision |\n",
      "+---------------+---------+-------------+----------------+\n",
      "|    0.85973    |  0.9213 |    0.9948   |    0.85792     |\n",
      "+---------------+---------+-------------+----------------+\n"
     ]
    }
   ],
   "source": [
    "print(report)"
   ]
  },
  {
   "cell_type": "markdown",
   "metadata": {},
   "source": [
    "#### Confusion Matrix"
   ]
  },
  {
   "cell_type": "code",
   "execution_count": 53,
   "metadata": {},
   "outputs": [],
   "source": [
    "from sklearn.metrics import confusion_matrix"
   ]
  },
  {
   "cell_type": "code",
   "execution_count": 54,
   "metadata": {},
   "outputs": [],
   "source": [
    "cm = confusion_matrix(actual, preds)"
   ]
  },
  {
   "cell_type": "markdown",
   "metadata": {},
   "source": [
    "#### Feature Importance"
   ]
  },
  {
   "cell_type": "code",
   "execution_count": 55,
   "metadata": {},
   "outputs": [
    {
     "data": {
      "text/plain": [
       "array([[-10.36573982, -10.21059643,  -9.94469937, ..., -10.7197657 ,\n",
       "        -10.33670262, -10.12949606],\n",
       "       [-10.38326582, -10.12529537, -10.01238421, ...,  -9.65723172,\n",
       "         -9.81874281,  -9.71084588]])"
      ]
     },
     "execution_count": 55,
     "metadata": {},
     "output_type": "execute_result"
    }
   ],
   "source": [
    "clf.feature_log_prob_"
   ]
  },
  {
   "cell_type": "code",
   "execution_count": 56,
   "metadata": {},
   "outputs": [],
   "source": [
    "def top_k_features(k):\n",
    "    neg_class_prob_sorted = clf.feature_log_prob_[0, :].argsort()\n",
    "    pos_class_prob_sorted = clf.feature_log_prob_[1, :].argsort()\n",
    "\n",
    "    print(np.take(tfidf.get_feature_names(), neg_class_prob_sorted[:k]))\n",
    "    print(np.take(tfidf.get_feature_names(), pos_class_prob_sorted[:k]))"
   ]
  },
  {
   "cell_type": "code",
   "execution_count": 57,
   "metadata": {},
   "outputs": [
    {
     "name": "stdout",
     "output_type": "stream",
     "text": [
      "['excellant' 'addicting' 'divide' 'rebecca' 'stews' 'pickiest' 'backpack'\n",
      " 'yuban' 'scrumptious' 'accompaniment' 'crock' 'peterson' 'joints' 'gems'\n",
      " 'nutritionist' 'lends' 'arthritis' 'relax' 'jitters' 'comforting']\n",
      "['deceptive' 'embarrassed' 'moldy' 'emails' 'lousy' 'defective'\n",
      " 'contacting' 'ashamed' 'bait' 'ruins' 'disapointed' 'horrid' 'canceled'\n",
      " 'sorely' 'returns' 'linked' 'hopeful' 'lesson' 'inedible' 'choked']\n"
     ]
    }
   ],
   "source": [
    "top_k_features(20)"
   ]
  }
 ],
 "metadata": {
  "kernelspec": {
   "display_name": "Python 3",
   "language": "python",
   "name": "python3"
  },
  "language_info": {
   "codemirror_mode": {
    "name": "ipython",
    "version": 3
   },
   "file_extension": ".py",
   "mimetype": "text/x-python",
   "name": "python",
   "nbconvert_exporter": "python",
   "pygments_lexer": "ipython3",
   "version": "3.6.6"
  }
 },
 "nbformat": 4,
 "nbformat_minor": 2
}
